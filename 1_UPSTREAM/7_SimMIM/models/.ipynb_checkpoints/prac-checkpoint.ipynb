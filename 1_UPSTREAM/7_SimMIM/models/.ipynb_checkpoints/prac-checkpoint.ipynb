{
 "cells": [
  {
   "cell_type": "code",
   "execution_count": null,
   "metadata": {},
   "outputs": [
    {
     "ename": "",
     "evalue": "",
     "output_type": "error",
     "traceback": [
      "\u001b[1;31mRunning cells with 'base' requires the ipykernel package.\n",
      "\u001b[1;31mRun the following command to install 'ipykernel' into the Python environment. \n",
      "\u001b[1;31mCommand: 'conda install -n base ipykernel --update-deps --force-reinstall'"
     ]
    }
   ],
   "source": [
    "from monai import data, transforms\n",
    "import glob\n",
    "import numpy as np\n",
    "import os\n",
    "import re\n",
    "import natsort\n",
    "import SimpleITK as sitk\n",
    "\n",
    "def get_loader():\n",
    "    train_real = natsort.natsorted(glob.glob(f'/workspace/dataset/PET/*.nii.gz'))[:5] #ALL -> 2125 or 2130\n",
    "    \n",
    "    print(\"Train [Total]  number = \", len(train_real))\n",
    "\n",
    "    files_tr = [img_tr for img_tr in zip(train_real)]\n",
    "\n",
    "    tr_transforms = transforms.Compose(\n",
    "        [\n",
    "            transforms.LoadImage(image_only=True),\n",
    "            transforms.EnsureChannelFirst(),\n",
    "            transforms.Orientation(axcodes=\"RAI\"),\n",
    "            transforms.ScaleIntensityRange(a_min=0.0, a_max=22.0, b_min=0.0, b_max=1.0, clip=True),\n",
    "            transforms.EnsureType(),\n",
    "            transforms.ToTensor(track_meta=False)\n",
    "        ]\n",
    "    )\n",
    "\n",
    "    # new_dataset -> Cachenew_dataset\n",
    "    train_ds = data.CacheDataset(data = files_tr, transform = tr_transforms, cache_rate = 1.0, num_workers = 32)\n",
    "\n",
    "    train_loader = data.DataLoader(\n",
    "        train_ds,\n",
    "        batch_size=1,\n",
    "        shuffle=False,\n",
    "        num_workers=2,\n",
    "        pin_memory=False\n",
    "        # persistent_workers=True,\n",
    "    )\n",
    "    print(\"loader is ver (train)\")\n",
    "\n",
    "    loader = train_loader\n",
    "\n",
    "    return loader\n",
    "\n",
    "loader = get_loader()"
   ]
  },
  {
   "cell_type": "code",
   "execution_count": null,
   "metadata": {},
   "outputs": [],
   "source": []
  }
 ],
 "metadata": {
  "kernelspec": {
   "display_name": "base",
   "language": "python",
   "name": "python3"
  },
  "language_info": {
   "name": "python",
   "version": "3.10.13"
  },
  "orig_nbformat": 4
 },
 "nbformat": 4,
 "nbformat_minor": 2
}
